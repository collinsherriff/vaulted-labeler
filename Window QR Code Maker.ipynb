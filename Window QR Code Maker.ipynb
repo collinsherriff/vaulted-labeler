{
 "cells": [
  {
   "cell_type": "code",
   "execution_count": 11,
   "metadata": {},
   "outputs": [],
   "source": [
    "import qrcode\n",
    "from tkinter import *\n",
    "from tkinter import messagebox"
   ]
  },
  {
   "cell_type": "code",
   "execution_count": 12,
   "metadata": {},
   "outputs": [],
   "source": [
    "#Creating the window\n",
    "wn = Tk()\n",
    "wn.title('Fanfire QR Code Generator')\n",
    "wn.geometry('700x700')\n",
    "wn.config(bg='SteelBlue3')"
   ]
  },
  {
   "cell_type": "code",
   "execution_count": 13,
   "metadata": {},
   "outputs": [
    {
     "name": "stderr",
     "output_type": "stream",
     "text": [
      "Exception in Tkinter callback\n",
      "Traceback (most recent call last):\n",
      "  File \"c:\\Users\\colli\\Desktop\\Dev\\python3\\lib\\tkinter\\__init__.py\", line 1921, in __call__\n",
      "    return self.func(*args)\n",
      "  File \"C:\\Users\\colli\\AppData\\Local\\Temp\\ipykernel_20188\\1096857265.py\", line 11, in generateCode\n",
      "    img.save(f'{fileDirec}.png') #Saving the QR Code\n",
      "  File \"c:\\Users\\colli\\Desktop\\Dev\\python3\\lib\\site-packages\\qrcode\\image\\pil.py\", line 58, in save\n",
      "    self._img.save(stream, format=format, **kwargs)\n",
      "  File \"c:\\Users\\colli\\Desktop\\Dev\\python3\\lib\\site-packages\\PIL\\Image.py\", line 2317, in save\n",
      "    fp = builtins.open(filename, \"w+b\")\n",
      "OSError: [Errno 22] Invalid argument: '\"C:\\\\Users\\\\colli\\\\Desktop\"\\\\NewQR.png'\n",
      "Exception in Tkinter callback\n",
      "Traceback (most recent call last):\n",
      "  File \"c:\\Users\\colli\\Desktop\\Dev\\python3\\lib\\tkinter\\__init__.py\", line 1921, in __call__\n",
      "    return self.func(*args)\n",
      "  File \"C:\\Users\\colli\\AppData\\Local\\Temp\\ipykernel_20188\\1096857265.py\", line 11, in generateCode\n",
      "    img.save(f'{fileDirec}.png') #Saving the QR Code\n",
      "  File \"c:\\Users\\colli\\Desktop\\Dev\\python3\\lib\\site-packages\\qrcode\\image\\pil.py\", line 58, in save\n",
      "    self._img.save(stream, format=format, **kwargs)\n",
      "  File \"c:\\Users\\colli\\Desktop\\Dev\\python3\\lib\\site-packages\\PIL\\Image.py\", line 2317, in save\n",
      "    fp = builtins.open(filename, \"w+b\")\n",
      "OSError: [Errno 22] Invalid argument: '\"C:\\\\Users\\\\colli\\\\Desktop\"\\\\NewQR.png'\n",
      "Exception in Tkinter callback\n",
      "Traceback (most recent call last):\n",
      "  File \"c:\\Users\\colli\\Desktop\\Dev\\python3\\lib\\tkinter\\__init__.py\", line 1921, in __call__\n",
      "    return self.func(*args)\n",
      "  File \"C:\\Users\\colli\\AppData\\Local\\Temp\\ipykernel_20188\\1096857265.py\", line 11, in generateCode\n",
      "    img.save(f'{fileDirec}.png') #Saving the QR Code\n",
      "  File \"c:\\Users\\colli\\Desktop\\Dev\\python3\\lib\\site-packages\\qrcode\\image\\pil.py\", line 58, in save\n",
      "    self._img.save(stream, format=format, **kwargs)\n",
      "  File \"c:\\Users\\colli\\Desktop\\Dev\\python3\\lib\\site-packages\\PIL\\Image.py\", line 2317, in save\n",
      "    fp = builtins.open(filename, \"w+b\")\n",
      "OSError: [Errno 22] Invalid argument: '\"C:\\\\Users\\\\colli\\\\Desktop\"\\\\NewQR.png'\n"
     ]
    }
   ],
   "source": [
    "#Label for the window\n",
    "headingFrame = Frame(wn,bg=\"azure\",bd=5)\n",
    "headingFrame.place(relx=0.15,rely=0.05,relwidth=0.7,relheight=0.1)\n",
    "headingLabel = Label(headingFrame, text=\"Generate QR Codes\", bg='azure', font=('Times',20,'bold'))\n",
    "headingLabel.place(relx=0,rely=0, relwidth=1, relheight=1)\n",
    "#Taking the input of the text or URL to get QR code\n",
    "Frame1 = Frame(wn,bg=\"SteelBlue3\")\n",
    "Frame1.place(relx=0.1,rely=0.15,relwidth=0.7,relheight=0.3)\n",
    "label1 = Label(Frame1,text=\"Enter the text/URL: \",bg=\"SteelBlue3\",fg='azure',font=('Courier',13,'bold'))\n",
    "label1.place(relx=0.05,rely=0.2, relheight=0.08)\n",
    "text = Entry(Frame1,font=('Century 12'))\n",
    "text.place(relx=0.05,rely=0.4, relwidth=1, relheight=0.2)\n",
    "#Getting input of the location to save QR Code\n",
    "Frame2 = Frame(wn,bg=\"SteelBlue3\")\n",
    "Frame2.place(relx=0.1,rely=0.35,relwidth=0.7,relheight=0.3)\n",
    "label2 = Label(Frame2,text=\"Enter the location to save the QR Code: \",bg=\"SteelBlue3\",fg='azure',font=('Courier',13,'bold'))\n",
    "label2.place(relx=0.05,rely=0.2, relheight=0.08)\n",
    "loc = Entry(Frame2,font=('Century 12'))\n",
    "loc.place(relx=0.05,rely=0.4, relwidth=1, relheight=0.2)\n",
    "#Getting input of the QR Code image name\n",
    "Frame3 = Frame(wn,bg=\"SteelBlue3\")\n",
    "Frame3.place(relx=0.1,rely=0.55,relwidth=0.7,relheight=0.3)\n",
    "label3 = Label(Frame3,text=\"Enter the name of the QR Code: \",bg=\"SteelBlue3\",fg='azure',font=('Courier',13,'bold'))\n",
    "label3.place(relx=0.05,rely=0.2, relheight=0.08)\n",
    "name = Entry(Frame3,font=('Century 12'))\n",
    "name.place(relx=0.05,rely=0.4, relwidth=1, relheight=0.2)\n",
    "#Getting the input of the size of the QR Code\n",
    "Frame4 = Frame(wn,bg=\"SteelBlue3\")\n",
    "Frame4.place(relx=0.1,rely=0.75,relwidth=0.7,relheight=0.2)\n",
    "label4 = Label(Frame4,text=\"Enter the size from 1 to 40 with 1 being 21x21: \",bg=\"SteelBlue3\",fg='azure',font=('Courier',13,'bold'))\n",
    "label4.place(relx=0.05,rely=0.2, relheight=0.08)\n",
    "size = Entry(Frame4,font=('Century 12'))\n",
    "size.place(relx=0.05,rely=0.4, relwidth=0.5, relheight=0.2)\n",
    "#Button to generate and save the QR Code\n",
    "button = Button(wn, text='Generate Code',font=('Courier',15,'normal'),command=generateCode)\n",
    "button.place(relx=0.35,rely=0.9, relwidth=0.25, relheight=0.05)\n",
    "#Runs the window till it is closed manually\n",
    "wn.mainloop()"
   ]
  },
  {
   "cell_type": "code",
   "execution_count": 14,
   "metadata": {},
   "outputs": [],
   "source": [
    "#Function to generate the QR code and save it\n",
    "def generateCode():\n",
    "  #Creating a QRCode object of the size specified by the user\n",
    "  qr = qrcode.QRCode(version = size.get(),\n",
    "            box_size = 10,\n",
    "            border = 5)\n",
    "  qr.add_data(text.get()) #Adding the data to be encoded to the QRCode object\n",
    "  qr.make(fit = True) #Making the entire QR Code space utilized\n",
    "  img = qr.make_image() #Generating the QR Code\n",
    "  fileDirec=loc.get()+'\\\\'+name.get() #Getting the directory where the file has to be save\n",
    "  img.save(f'{fileDirec}.png') #Saving the QR Code\n",
    "  #Showing the pop up message on saving the file\n",
    "  messagebox.showinfo(\"DataFlair QR Code Generator\",\"QR Code is saved successfully!\")"
   ]
  },
  {
   "cell_type": "code",
   "execution_count": 15,
   "metadata": {},
   "outputs": [
    {
     "data": {
      "text/plain": [
       "<qrcode.main.QRCode at 0x1e4dfede890>"
      ]
     },
     "execution_count": 15,
     "metadata": {},
     "output_type": "execute_result"
    }
   ],
   "source": []
  },
  {
   "cell_type": "code",
   "execution_count": null,
   "metadata": {},
   "outputs": [],
   "source": []
  }
 ],
 "metadata": {
  "kernelspec": {
   "display_name": "Python 3.10.5 64-bit",
   "language": "python",
   "name": "python3"
  },
  "language_info": {
   "codemirror_mode": {
    "name": "ipython",
    "version": 3
   },
   "file_extension": ".py",
   "mimetype": "text/x-python",
   "name": "python",
   "nbconvert_exporter": "python",
   "pygments_lexer": "ipython3",
   "version": "3.10.5"
  },
  "orig_nbformat": 4,
  "vscode": {
   "interpreter": {
    "hash": "f8acbac0299151200273dc6296e6bc2aac026cbc81ac7f20a81f3d3f63bedd6e"
   }
  }
 },
 "nbformat": 4,
 "nbformat_minor": 2
}
