{
 "cells": [
  {
   "cell_type": "code",
   "execution_count": 2,
   "id": "b1da69b7",
   "metadata": {},
   "outputs": [],
   "source": [
    "import qrcode"
   ]
  },
  {
   "cell_type": "code",
   "execution_count": 17,
   "id": "6f946cfd",
   "metadata": {},
   "outputs": [],
   "source": [
    "img = qrcode.make('https://api.vaulted.wine/asset/lourensford/DHF-BLD-2017/00004')\n",
    "type(img)  # qrcode.image.pil.PilImage\n",
    "img.save(\"QR CODE 1.png\")"
   ]
  },
  {
   "cell_type": "code",
   "execution_count": 18,
   "id": "422fdc5e",
   "metadata": {},
   "outputs": [
    {
     "data": {
      "image/png": "[encoded data removed]",
      "text/plain": [
       "<qrcode.image.pil.PilImage at 0x21f80fe3b50>"
      ]
     },
     "execution_count": 18,
     "metadata": {},
     "output_type": "execute_result"
    }
   ],
   "source": [
    "img"
   ]
  },
  {
   "cell_type": "code",
   "execution_count": null,
   "id": "fb83ac32",
   "metadata": {},
   "outputs": [],
   "source": []
  }
 ],
 "metadata": {
  "kernelspec": {
   "display_name": "Python 3.10.5 64-bit",
   "language": "python",
   "name": "python3"
  },
  "language_info": {
   "codemirror_mode": {
    "name": "ipython",
    "version": 3
   },
   "file_extension": ".py",
   "mimetype": "text/x-python",
   "name": "python",
   "nbconvert_exporter": "python",
   "pygments_lexer": "ipython3",
   "version": "3.10.5"
  },
  "vscode": {
   "interpreter": {
    "hash": "f8acbac0299151200273dc6296e6bc2aac026cbc81ac7f20a81f3d3f63bedd6e"
   }
  }
 },
 "nbformat": 4,
 "nbformat_minor": 5
}
