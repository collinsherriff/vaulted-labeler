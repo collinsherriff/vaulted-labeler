{
 "cells": [
  {
   "cell_type": "code",
   "execution_count": 285,
   "metadata": {},
   "outputs": [],
   "source": [
    "import qrcode\n",
    "import base64\n",
    "from io import BytesIO\n",
    "from PIL import Image\n",
    "import pandas as pd\n",
    "import numpy as np\n",
    "import copy \n",
    "import PIL\n",
    "import tkinter\n",
    "from qrcode.image.styledpil import StyledPilImage\n",
    "from qrcode.image.styles.colormasks import RadialGradiantColorMask\n",
    "import copy"
   ]
  },
  {
   "cell_type": "code",
   "execution_count": 286,
   "metadata": {},
   "outputs": [],
   "source": [
    "def generateQRSRC(sku):\n",
    "    qr = qrcode.QRCode(\n",
    "    version=1,\n",
    "    error_correction=qrcode.constants.ERROR_CORRECT_L,\n",
    "    box_size=3,\n",
    "    border=0,\n",
    "    )\n",
    "    qr.add_data(sku)\n",
    "    qr.make(fit=True)\n",
    "\n",
    "    img = qr.make_image(fill_color=\"black\", back_color=\"white\") #of (image_factory=StyledPilImage, color_mask=RadialGradiantColorMask())\n",
    "    im_file = BytesIO()\n",
    "    img.save(im_file, format=\"JPEG\")\n",
    "    im_bytes = im_file.getvalue()\n",
    "    im_b64 = base64.b64encode(im_bytes)\n",
    "\n",
    "    img_source = f'data:image/jpeg;base64,{im_b64.decode(\"utf-8\")}'\n",
    "    return img_source"
   ]
  },
  {
   "cell_type": "code",
   "execution_count": 287,
   "metadata": {},
   "outputs": [
    {
     "data": {
      "text/plain": [
       "'data:image/jpeg;base64,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'"
      ]
     },
     "execution_count": 287,
     "metadata": {},
     "output_type": "execute_result"
    }
   ],
   "source": [
    "generateQRSRC('asdf')"
   ]
  },
  {
   "cell_type": "code",
   "execution_count": 288,
   "metadata": {},
   "outputs": [],
   "source": [
    "df = pd.read_csv('./Vaulted Inventory & Consignment Management Verson.csv')\n",
    "df.columns = [c.lower() for c in df.columns]\n",
    "df['vintage'] = df['vintage'].astype(int).astype(str)"
   ]
  },
  {
   "cell_type": "code",
   "execution_count": 289,
   "metadata": {},
   "outputs": [
    {
     "data": {
      "text/html": [
       "<div>\n",
       "<style scoped>\n",
       "    .dataframe tbody tr th:only-of-type {\n",
       "        vertical-align: middle;\n",
       "    }\n",
       "\n",
       "    .dataframe tbody tr th {\n",
       "        vertical-align: top;\n",
       "    }\n",
       "\n",
       "    .dataframe thead th {\n",
       "        text-align: right;\n",
       "    }\n",
       "</style>\n",
       "<table border=\"1\" class=\"dataframe\">\n",
       "  <thead>\n",
       "    <tr style=\"text-align: right;\">\n",
       "      <th></th>\n",
       "      <th>company</th>\n",
       "      <th>vault</th>\n",
       "      <th>suffix</th>\n",
       "      <th>sku</th>\n",
       "      <th>producer</th>\n",
       "      <th>release</th>\n",
       "      <th>vintage</th>\n",
       "      <th>volume</th>\n",
       "      <th>size</th>\n",
       "      <th>qty</th>\n",
       "      <th>case</th>\n",
       "      <th>bin</th>\n",
       "      <th>alc</th>\n",
       "    </tr>\n",
       "  </thead>\n",
       "  <tbody>\n",
       "    <tr>\n",
       "      <th>0</th>\n",
       "      <td>Vaulted Wine</td>\n",
       "      <td>Lourensford Vault</td>\n",
       "      <td>Powered by Fanfire</td>\n",
       "      <td>https://api.vaulted.wine/asset/lourensford/LOU...</td>\n",
       "      <td>Lourensford</td>\n",
       "      <td>Limited Release SMV</td>\n",
       "      <td>2019</td>\n",
       "      <td>750 ml</td>\n",
       "      <td>6</td>\n",
       "      <td>10</td>\n",
       "      <td>R1,650.00</td>\n",
       "      <td>9</td>\n",
       "      <td>15 % Vol</td>\n",
       "    </tr>\n",
       "    <tr>\n",
       "      <th>1</th>\n",
       "      <td>Vaulted Wine</td>\n",
       "      <td>Lourensford Vault</td>\n",
       "      <td>Powered by Fanfire</td>\n",
       "      <td>https://api.vaulted.wine/asset/lourensford/DHF...</td>\n",
       "      <td>Doolhof</td>\n",
       "      <td>Bloedklip Malbec</td>\n",
       "      <td>2017</td>\n",
       "      <td>750 ml</td>\n",
       "      <td>6</td>\n",
       "      <td>5</td>\n",
       "      <td>R5,670.00</td>\n",
       "      <td>13</td>\n",
       "      <td>13 % Vol</td>\n",
       "    </tr>\n",
       "    <tr>\n",
       "      <th>2</th>\n",
       "      <td>Vaulted Wine</td>\n",
       "      <td>Lourensford Vault</td>\n",
       "      <td>Powered by Fanfire</td>\n",
       "      <td>https://api.vaulted.wine/asset/lourensford/DHF...</td>\n",
       "      <td>Doolhof</td>\n",
       "      <td>Riviersteen Chenin Blanc</td>\n",
       "      <td>2018</td>\n",
       "      <td>750 ml</td>\n",
       "      <td>6</td>\n",
       "      <td>5</td>\n",
       "      <td>R2,520.00</td>\n",
       "      <td>17</td>\n",
       "      <td>12 % Vol</td>\n",
       "    </tr>\n",
       "    <tr>\n",
       "      <th>3</th>\n",
       "      <td>Vaulted Wine</td>\n",
       "      <td>Lourensford Vault</td>\n",
       "      <td>Powered by Fanfire</td>\n",
       "      <td>https://api.vaulted.wine/asset/lourensford/DHF...</td>\n",
       "      <td>Doolhof</td>\n",
       "      <td>Morestond Chardonnay</td>\n",
       "      <td>2017</td>\n",
       "      <td>750 ml</td>\n",
       "      <td>6</td>\n",
       "      <td>5</td>\n",
       "      <td>R2,520.00</td>\n",
       "      <td>21</td>\n",
       "      <td>12 % Vol</td>\n",
       "    </tr>\n",
       "    <tr>\n",
       "      <th>4</th>\n",
       "      <td>Vaulted Wine</td>\n",
       "      <td>Lourensford Vault</td>\n",
       "      <td>Powered by Fanfire</td>\n",
       "      <td>https://api.vaulted.wine/asset/lourensford/WAT...</td>\n",
       "      <td>Waterkloof</td>\n",
       "      <td>Circumstance Merlot</td>\n",
       "      <td>2012</td>\n",
       "      <td>750 ml</td>\n",
       "      <td>6</td>\n",
       "      <td>2</td>\n",
       "      <td>R720.00</td>\n",
       "      <td>22</td>\n",
       "      <td>13 % Vol</td>\n",
       "    </tr>\n",
       "  </tbody>\n",
       "</table>\n",
       "</div>"
      ],
      "text/plain": [
       "        company              vault              suffix  \\\n",
       "0  Vaulted Wine  Lourensford Vault  Powered by Fanfire   \n",
       "1  Vaulted Wine  Lourensford Vault  Powered by Fanfire   \n",
       "2  Vaulted Wine  Lourensford Vault  Powered by Fanfire   \n",
       "3  Vaulted Wine  Lourensford Vault  Powered by Fanfire   \n",
       "4  Vaulted Wine  Lourensford Vault  Powered by Fanfire   \n",
       "\n",
       "                                                 sku     producer  \\\n",
       "0  https://api.vaulted.wine/asset/lourensford/LOU...  Lourensford   \n",
       "1  https://api.vaulted.wine/asset/lourensford/DHF...      Doolhof   \n",
       "2  https://api.vaulted.wine/asset/lourensford/DHF...      Doolhof   \n",
       "3  https://api.vaulted.wine/asset/lourensford/DHF...      Doolhof   \n",
       "4  https://api.vaulted.wine/asset/lourensford/WAT...   Waterkloof   \n",
       "\n",
       "                    release vintage  volume  size  qty        case   bin  \\\n",
       "0       Limited Release SMV    2019  750 ml     6   10   R1,650.00     9   \n",
       "1         Bloedklip Malbec     2017  750 ml     6    5   R5,670.00    13   \n",
       "2  Riviersteen Chenin Blanc    2018  750 ml     6    5   R2,520.00    17   \n",
       "3      Morestond Chardonnay    2017  750 ml     6    5   R2,520.00    21   \n",
       "4       Circumstance Merlot    2012  750 ml     6    2     R720.00    22   \n",
       "\n",
       "        alc  \n",
       "0  15 % Vol  \n",
       "1  13 % Vol  \n",
       "2  12 % Vol  \n",
       "3  12 % Vol  \n",
       "4  13 % Vol  "
      ]
     },
     "execution_count": 289,
     "metadata": {},
     "output_type": "execute_result"
    }
   ],
   "source": [
    "df"
   ]
  },
  {
   "cell_type": "code",
   "execution_count": 290,
   "metadata": {},
   "outputs": [],
   "source": [
    "with open('./template.html', 'r') as f:\n",
    "    lines = f.readlines()\n",
    "html = ''.join(lines)"
   ]
  },
  {
   "cell_type": "code",
   "execution_count": 291,
   "metadata": {},
   "outputs": [],
   "source": [
    "template = \"\"\"<h3>COMPANY_NAME</h3>\n",
    "<img src=\"SOURCE_BASE64\" style=\"float:right\">\n",
    "<h4>VAULT_NAME</h4>\n",
    "<h4>PRODUCER</h4>\n",
    "<h5>RELEASE, VINTAGE</h5>\n",
    "<p style=\"float:right\">Powered by Fanfire</p>\"\"\""
   ]
  },
  {
   "cell_type": "code",
   "execution_count": 292,
   "metadata": {},
   "outputs": [],
   "source": [
    "items = []\n",
    "for i, row in df.iterrows():\n",
    "    item = copy\\\n",
    "    .deepcopy(template)\\\n",
    "    .replace(\"COMPANY_NAME\", row['company'])\\\n",
    "    .replace(\"VAULT_NAME\", row['vault'])\\\n",
    "    .replace(\"PRODUCER\", row['producer'])\\\n",
    "    .replace(\"RELEASE\", row['release'])\\\n",
    "    .replace(\"VINTAGE\", row['vintage'])\\\n",
    "    .replace(\"SOURCE_BASE64\", generateQRSRC(row['sku']))\n",
    "    \n",
    "    items.append(item)"
   ]
  },
  {
   "cell_type": "code",
   "execution_count": 293,
   "metadata": {},
   "outputs": [],
   "source": [
    "items = items + items + items"
   ]
  },
  {
   "cell_type": "code",
   "execution_count": 294,
   "metadata": {},
   "outputs": [],
   "source": [
    "from pathlib import Path\n",
    "from time import time"
   ]
  },
  {
   "cell_type": "code",
   "execution_count": null,
   "metadata": {},
   "outputs": [],
   "source": [
    "run_dir = Path(str(time()))\n",
    "run_dir.mkdir()\n",
    "page_nr = 0 \n",
    "page = copy.deepcopy(html)\n",
    "for item_nr, item in enumerate(items):\n",
    "    print(item_nr, page_nr) \n",
    "    page = page.replace(f'ITEM_{(item_nr%10)+1}_HTML', item)\n",
    "    if (item_nr + 1) % 10 == 0:\n",
    "        with open(run_dir/f'page-{page_nr}.html', 'w') as f:\n",
    "            f.write(page)\n",
    "        page_nr = page_nr + 1\n",
    "        page = copy.deepcopy(html)\n",
    "with open(run_dir/f'page-{page_nr}.html', 'w') as f:\n",
    "    f.write(page)"
   ]
  },
  {
   "cell_type": "code",
   "execution_count": null,
   "metadata": {},
   "outputs": [],
   "source": []
  }
 ],
 "metadata": {
  "kernelspec": {
   "display_name": "Python 3.10.5 64-bit",
   "language": "python",
   "name": "python3"
  },
  "language_info": {
   "codemirror_mode": {
    "name": "ipython",
    "version": 3
   },
   "file_extension": ".py",
   "mimetype": "text/x-python",
   "name": "python",
   "nbconvert_exporter": "python",
   "pygments_lexer": "ipython3",
   "version": "3.10.5"
  },
  "vscode": {
   "interpreter": {
    "hash": "f8acbac0299151200273dc6296e6bc2aac026cbc81ac7f20a81f3d3f63bedd6e"
   }
  }
 },
 "nbformat": 4,
 "nbformat_minor": 2
}
